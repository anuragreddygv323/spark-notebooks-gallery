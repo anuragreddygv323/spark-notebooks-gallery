{
  "metadata" : {
    "id" : "41b30c4b-b46e-4a6d-9e12-821c0818fdd2",
    "name" : "NHANES_data",
    "user_save_timestamp" : "1970-01-01T03:00:00.000Z",
    "auto_save_timestamp" : "1970-01-01T03:00:00.000Z",
    "language_info" : {
      "name" : "scala",
      "file_extension" : "scala",
      "codemirror_mode" : "text/x-scala"
    },
    "trusted" : true,
    "sparkNotebook" : null,
    "customLocalRepo" : null,
    "customRepos" : null,
    "customDeps" : null,
    "customImports" : null,
    "customArgs" : null,
    "customSparkConf" : {
      "spark.master" : "local[2]",
      "spark.executor.memory" : "3G"
    },
    "customVars" : null
  },
  "cells" : [
    {
      "metadata" : {
        "id" : "6E92FA8FD17044058C6034073169C096"
      },
      "cell_type" : "markdown",
      "source" : "# Obtaining physical activity monitor data"
    },
    {
      "metadata" : {
        "id" : "792C5CCB3EDC4B79B5A98DCF5D00865D"
      },
      "cell_type" : "markdown",
      "source" : "To conduct our analysis of physical activity monitor measurements we will use [NHANES](https://wwwn.cdc.gov/Nchs/Nhanes/) public dataset.\nWe're interested in demographic and physical activity monitor files from the 2003-2004 and 2005-2006 cycles:\n\n - [NHANES 2003-2004 Demographics Data](https://wwwn.cdc.gov/nchs/nhanes/search/datapage.aspx?Component=Demographics&CycleBeginYear=2003)\n - [NHANES 2003-2004 Examination Data](https://wwwn.cdc.gov/nchs/nhanes/search/datapage.aspx?Component=Examination&CycleBeginYear=2003) (Physical Activity Monitor codebook and data file)\n - [NHANES 2005-2006 Demographics Data](https://wwwn.cdc.gov/nchs/nhanes/search/datapage.aspx?Component=Demographics&CycleBeginYear=2005) (Physical Activity Monitor codebook and data file)\n - [NHANES 2005-2006 Examination Data](https://wwwn.cdc.gov/nchs/nhanes/search/datapage.aspx?Component=Examination&CycleBeginYear=2005)\n \n \nData files are store in SAS Transport Files format.\n\nTo convert from sas transport file format with extension`.xpt` to CSV we can use `xport` module from python PyPI packages:\n\n```bash\npip install xport\n```\nand use the `xport` module as a command-line tool to convert an XPT file to CSV file:\n\n```bash\npython -m xport paxraw_d.xpt > paxraw_d.csv\n```\n\nThis might take some time for physical activity monitor data files."
    },
    {
      "metadata" : {
        "id" : "55A81F20E41D490CB27208CAC2AC489A"
      },
      "cell_type" : "markdown",
      "source" : "### Note on `PAXINTEN` vs `PAXSTEP`"
    },
    {
      "metadata" : {
        "id" : "F19F8DEB55D3408C80B13A56919E490A"
      },
      "cell_type" : "markdown",
      "source" : "According to supplied codebook the physical activity monitors (PAMs) used in NHANES collected objective information\non the intensity and duration of common locomotion activities such as walking and jogging.\nThe device is programmed to detect and record the magnitude of acceleration or “intensity” of movement; acceleration data are stored in memory according to a specified time interval. A one minute time interval or “epoch” was used in NHANES. Intensity readings were summed over each 1-minute epoch and stored in `PAXINTEN` variable.\n\nIn addition to intensity value there is also `PAXSTEP` variable which stores the step count recorded by the physical activity monitor 2005-2006 examination data. Since these two variables are correlated and `PAXSTEP` is not available for 2003-2004 cycle then we will use only `PAXINTEN` variable to unite datasets from two cycles."
    },
    {
      "metadata" : {
        "id" : "B48D72D28399419F8B2B3138BFBA92AC"
      },
      "cell_type" : "markdown",
      "source" : "## Preparing the data"
    },
    {
      "metadata" : {
        "trusted" : true,
        "input_collapsed" : false,
        "collapsed" : false,
        "id" : "575432ABE88E497EA2487F421DA7CAD4"
      },
      "cell_type" : "code",
      "source" : [
        "import org.apache.spark.sql.types._\n",
        "import org.apache.spark.sql.functions._\n",
        "\n",
        "val spark = sparkSession"
      ],
      "outputs" : [ ]
    },
    {
      "metadata" : {
        "id" : "FB8020499FB44FC2A6192B34AC525ABC"
      },
      "cell_type" : "markdown",
      "source" : "###Physical activity monitor data"
    },
    {
      "metadata" : {
        "trusted" : true,
        "input_collapsed" : false,
        "collapsed" : false,
        "id" : "338AF729A23D4DBEB9FC4CBF304DF400"
      },
      "cell_type" : "code",
      "source" : [
        "val PaxSchema = StructType(\n",
        "    StructField(\"SEQN\", FloatType, false) ::\n",
        "    StructField(\"PAXSTAT\", FloatType, false) ::\n",
        "    StructField(\"PAXCAL\", FloatType, false) ::\n",
        "    StructField(\"PAXDAYSAS\", FloatType, false) ::\n",
        "    StructField(\"PAXN\", FloatType, false) ::\n",
        "    StructField(\"PAXHOUR\", FloatType, false) ::\n",
        "    StructField(\"PAXMINUT\", FloatType, false) ::\n",
        "    StructField(\"PAXINTEN\", FloatType, false) ::\n",
        "    Nil\n",
        ")"
      ],
      "outputs" : [ ]
    },
    {
      "metadata" : {
        "trusted" : true,
        "input_collapsed" : false,
        "collapsed" : false,
        "id" : "CBB08C2C49934C29800CB2C6096753E2"
      },
      "cell_type" : "code",
      "source" : [
        "def readPaxData(path: String) = {\n",
        "  spark.read\n",
        "  .format(\"csv\")\n",
        "  .schema(PaxSchema)\n",
        "  .option(\"header\", true)\n",
        "  .load(path)\n",
        "  .select($\"SEQN\".cast(IntegerType),\n",
        "          $\"PAXSTAT\".cast(IntegerType),\n",
        "          $\"PAXCAL\".cast(IntegerType),\n",
        "          $\"PAXDAYSAS\".cast(IntegerType),\n",
        "          $\"PAXN\".cast(IntegerType),\n",
        "          $\"PAXHOUR\".cast(IntegerType),\n",
        "          $\"PAXMINUT\".cast(IntegerType),\n",
        "          $\"PAXINTEN\".cast(IntegerType) \n",
        "         )\n",
        "}"
      ],
      "outputs" : [ ]
    },
    {
      "metadata" : {
        "trusted" : true,
        "input_collapsed" : false,
        "collapsed" : false,
        "id" : "66D3FA944223416197591192B41B15C3"
      },
      "cell_type" : "code",
      "source" : [
        "val PaxDF_c = readPaxData(\"./notebooks/spark-notebooks-gallery/gallery/physical-activity-monitor/data/paxraw_c.csv\")\n",
        "val PaxDF_d = readPaxData(\"./notebooks/spark-notebooks-gallery/gallery/physical-activity-monitor/data/paxraw_d.csv\")\n",
        "\n",
        "val PaxDF = PaxDF_c.union(PaxDF_d)\n",
        "\n",
        "PaxDF.limit(10).show"
      ],
      "outputs" : [ ]
    },
    {
      "metadata" : {
        "trusted" : true,
        "input_collapsed" : false,
        "collapsed" : false,
        "id" : "49FCEB3564B9493591D2D9BB531AC6A4"
      },
      "cell_type" : "code",
      "source" : [
        ""
      ],
      "outputs" : [ ]
    },
    {
      "metadata" : {
        "trusted" : true,
        "input_collapsed" : false,
        "collapsed" : false,
        "id" : "04217A2C972C42AE80823D0EF560BDAE"
      },
      "cell_type" : "code",
      "source" : [
        "PaxDF.write\n",
        "  .format(\"parquet\")\n",
        "  .mode(\"overwrite\")\n",
        "  .save(\"./notebooks/spark-notebooks-gallery/gallery/physical-activity-monitor/data/paxraw.parquet\")"
      ],
      "outputs" : [ ]
    },
    {
      "metadata" : {
        "id" : "823D23DA287C4AA7B774511B73BA0AA8"
      },
      "cell_type" : "markdown",
      "source" : "###Demographics Data"
    },
    {
      "metadata" : {
        "trusted" : true,
        "input_collapsed" : false,
        "collapsed" : false,
        "id" : "87FDED043080457880879A170CA9B29E"
      },
      "cell_type" : "code",
      "source" : [
        "def readDemoDF(path: String) = {\n",
        "   spark.read\n",
        "  .format(\"csv\")\n",
        "  .option(\"header\", true)\n",
        "  .load(path)\n",
        "  .select($\"SEQN\".cast(IntegerType), $\"RIDAGEYR\".cast(IntegerType))\n",
        "}"
      ],
      "outputs" : [ ]
    },
    {
      "metadata" : {
        "trusted" : true,
        "input_collapsed" : false,
        "collapsed" : false,
        "id" : "CED26B321F4D4DF99A69F13B537B9FD4"
      },
      "cell_type" : "code",
      "source" : [
        "val DemoDF_c = readDemoDF(\"./notebooks/spark-notebooks-gallery/gallery/physical-activity-monitor/data/DEMO_C.csv\")\n",
        "val DemoDF_d = readDemoDF(\"./notebooks/spark-notebooks-gallery/gallery/physical-activity-monitor/data/DEMO_D.csv\")"
      ],
      "outputs" : [ ]
    },
    {
      "metadata" : {
        "trusted" : true,
        "input_collapsed" : false,
        "collapsed" : false,
        "id" : "98FA4680A27540E78EE761F98DD082CD"
      },
      "cell_type" : "code",
      "source" : [
        "val DemoDF = DemoDF_c.union(DemoDF_d)"
      ],
      "outputs" : [ ]
    },
    {
      "metadata" : {
        "trusted" : true,
        "input_collapsed" : false,
        "collapsed" : false,
        "id" : "0651CE7C4C9540EE8266D573E71F256D"
      },
      "cell_type" : "code",
      "source" : [
        "DemoDF.limit(3).show"
      ],
      "outputs" : [ ]
    },
    {
      "metadata" : {
        "trusted" : true,
        "input_collapsed" : false,
        "collapsed" : false,
        "id" : "81E85F416EBF4B4CAAB0C813DE54CE2F"
      },
      "cell_type" : "code",
      "source" : [
        "DemoDF.write\n",
        "  .format(\"parquet\")\n",
        "  .mode(\"overwrite\")\n",
        "  .save(\"./notebooks/spark-notebooks-gallery/gallery/physical-activity-monitor/data/demo.parquet\")"
      ],
      "outputs" : [ ]
    }
  ],
  "nbformat" : 4
}