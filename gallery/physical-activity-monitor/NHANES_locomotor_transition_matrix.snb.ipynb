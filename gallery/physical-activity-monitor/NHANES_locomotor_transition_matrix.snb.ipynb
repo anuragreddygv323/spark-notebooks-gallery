{
  "metadata" : {
    "id" : "da865934-c5da-4238-8718-c8cfcfe80733",
    "name" : "NHANES_locomotor_transition_matrix",
    "user_save_timestamp" : "2017-09-17T15:52:04.382Z",
    "auto_save_timestamp" : "1970-01-01T03:00:00.000Z",
    "language_info" : {
      "name" : "scala",
      "file_extension" : "scala",
      "codemirror_mode" : "text/x-scala"
    },
    "trusted" : true,
    "sparkNotebook" : null,
    "customLocalRepo" : null,
    "customRepos" : null,
    "customDeps" : null,
    "customImports" : null,
    "customArgs" : null,
    "customSparkConf" : {
      "spark.master" : "local[2]",
      "spark.executor.memory" : "3G"
    },
    "customVars" : null
  },
  "cells" : [
    {
      "metadata" : {
        "id" : "6E92FA8FD17044058C6034073169C096"
      },
      "cell_type" : "markdown",
      "source" : "#Analyzing physical activity monitor data. Part I. Transition matrix"
    },
    {
      "metadata" : {
        "id" : "A75501439F8C477D89684A8E0D4459D1"
      },
      "cell_type" : "markdown",
      "source" : "The inspiration and ideas for this lab were taken\nfrom [Timofey Pyrkov's talk](https://www.youtube.com/watch?v=9DoBLwvvZDA) on Yandex Data Science conference.\n\nIn nowdays it's quite easy to collect locomotor activity data using portable physical activity monitors (wearable devices, smarphones). And it's quite interesting to find a way to process this data in such a way that it could tell us something\nabout our mortality risks and wellness score."
    },
    {
      "metadata" : {
        "id" : "FB8020499FB44FC2A6192B34AC525ABC"
      },
      "cell_type" : "markdown",
      "source" : "## NHANES dataset"
    },
    {
      "metadata" : {
        "id" : "E81E9E4FEC9441568BF42020EFB53FD7"
      },
      "cell_type" : "markdown",
      "source" : "There is publicly available dataset called NHANES which contains\nlocomotor activity tracks along with various demographic data for thousands of respondents.\nTo get instruction on how to obtain codebooks and load this dataset refer to `NHANES_data` spark notebook in the same repository."
    },
    {
      "metadata" : {
        "trusted" : true,
        "input_collapsed" : false,
        "collapsed" : true,
        "id" : "DB6615ACF1C54ECA85A49F188B6D3654"
      },
      "cell_type" : "code",
      "source" : [
        "import org.apache.spark.sql.types._\n",
        "import org.apache.spark.sql.functions._\n",
        "\n",
        "val spark = sparkSession\n",
        "val SEED = 181"
      ],
      "outputs" : [ ]
    },
    {
      "metadata" : {
        "id" : "FE6E8591CD244C8682237A25426F62AE"
      },
      "cell_type" : "markdown",
      "source" : "### Physical activity monitor data"
    },
    {
      "metadata" : {
        "trusted" : true,
        "input_collapsed" : false,
        "collapsed" : true,
        "id" : "A9369BD854234E599AC2BFF2EB06BB62"
      },
      "cell_type" : "code",
      "source" : [
        "val PaxDF = spark.read\n",
        "  .format(\"parquet\")\n",
        "  .load(\"./notebooks/spark-notebooks-gallery/gallery/physical-activity-monitor/data/paxraw.parquet\")\n",
        "  \n",
        "\n",
        "PaxDF.describe(\"SEQN\", \"PAXINTEN\").show"
      ],
      "outputs" : [ ]
    },
    {
      "metadata" : {
        "id" : "823D23DA287C4AA7B774511B73BA0AA8"
      },
      "cell_type" : "markdown",
      "source" : "###Demographics"
    },
    {
      "metadata" : {
        "trusted" : true,
        "input_collapsed" : false,
        "collapsed" : true,
        "id" : "F39C264B5CB44C64A589ACE476DE6424"
      },
      "cell_type" : "code",
      "source" : [
        "val DemoDF = spark.read\n",
        "  .format(\"parquet\")\n",
        "  .load(\"./notebooks/spark-notebooks-gallery/gallery/physical-activity-monitor/data/demo.parquet\")"
      ],
      "outputs" : [ ]
    },
    {
      "metadata" : {
        "trusted" : true,
        "input_collapsed" : false,
        "collapsed" : true,
        "id" : "0651CE7C4C9540EE8266D573E71F256D"
      },
      "cell_type" : "code",
      "source" : [
        "DemoDF.limit(3).show"
      ],
      "outputs" : [ ]
    },
    {
      "metadata" : {
        "id" : "2BA7E85D7D9D43E58E7CCEFBC956C28D"
      },
      "cell_type" : "markdown",
      "source" : "## Cleaning physical activity monitor data"
    },
    {
      "metadata" : {
        "id" : "B800D1454FD74B2989A34772870BFF68"
      },
      "cell_type" : "markdown",
      "source" : "The physical activity monitors (PAMs) used in NHANES were programmed to detect and record the magnitude of acceleration \nor “intensity” of movement. Intensity readings were summed over each 1-minute epoch.\n\nThe dataset has some abnormally high \"intensity\" values stored by several devices. We can plot intensity value distribution."
    },
    {
      "metadata" : {
        "trusted" : true,
        "input_collapsed" : false,
        "collapsed" : true,
        "id" : "F4624EA73F524B1E8D3E4D606F2C75E9"
      },
      "cell_type" : "code",
      "source" : [
        "CustomPlotlyChart(PaxDF.where($\"PAXINTEN\" > 1000).sample(withReplacement=false, 0.05),\n",
        "                  layout=\"\"\"{title: 'Intencity value distribution', \n",
        "                             yaxis: {type: 'log'},\n",
        "                             xaxis: {title: 'Intensity'},\n",
        "                             bargap: 0.02}\"\"\",\n",
        "                  dataOptions=\"{type: 'histogram', opacity: 0.7}\",\n",
        "                  dataSources=\"{x: 'PAXINTEN'}\",\n",
        "                  maxPoints=5000)"
      ],
      "outputs" : [ ]
    },
    {
      "metadata" : {
        "id" : "2A28EA89E1FA4E90A50E0EE384EC18EB"
      },
      "cell_type" : "markdown",
      "source" : "Count the number of devices which recorded abnormally high intensity values"
    },
    {
      "metadata" : {
        "trusted" : true,
        "input_collapsed" : false,
        "collapsed" : true,
        "id" : "D1490461DD7942248827D1876BA074E2"
      },
      "cell_type" : "code",
      "source" : [
        "PaxDF.where($\"PAXINTEN\" > 27000).select($\"SEQN\").distinct.count"
      ],
      "outputs" : [ ]
    },
    {
      "metadata" : {
        "id" : "EB28C7DE494145C28158B4F59449398B"
      },
      "cell_type" : "markdown",
      "source" : "Let's remove those devices from the dataset.\n\nWe will create a broadcasted variable containing a set of Respondent sequence numbers (`SEQN`) with abnormally high intensity values."
    },
    {
      "metadata" : {
        "trusted" : true,
        "input_collapsed" : false,
        "collapsed" : true,
        "presentation" : {
          "tabs_state" : "{\n  \"tab_id\": \"#tab560093622-0\"\n}",
          "pivot_chart_state" : "{\n  \"hiddenAttributes\": [],\n  \"menuLimit\": 200,\n  \"cols\": [],\n  \"rows\": [],\n  \"vals\": [],\n  \"exclusions\": {},\n  \"inclusions\": {},\n  \"unusedAttrsVertical\": 85,\n  \"autoSortUnusedAttrs\": false,\n  \"inclusionsInfo\": {},\n  \"aggregatorName\": \"Count\",\n  \"rendererName\": \"Table\"\n}"
        },
        "id" : "41F5349D2FBA42338641FCFA3A21E412"
      },
      "cell_type" : "code",
      "source" : [
        "val broadcastedBlackList = spark.sparkContext.broadcast(\n",
        "  PaxDF.where($\"PAXINTEN\" > 27000).select($\"SEQN\").distinct\n",
        "  .collect.map(_(0).asInstanceOf[Int]).toSet\n",
        ")\n",
        "\n",
        "def inBlacklistUDF = udf((seqNum: Int) => {\n",
        "  broadcastedBlackList.value.contains(seqNum)\n",
        "})"
      ],
      "outputs" : [ ]
    },
    {
      "metadata" : {
        "trusted" : true,
        "input_collapsed" : false,
        "collapsed" : true,
        "id" : "A8CCA2B9C8C942D08DE76F2E0000EF56"
      },
      "cell_type" : "code",
      "source" : [
        "val PaxUnreliable = PaxDF.where(inBlacklistUDF($\"SEQN\"))\n",
        "\n",
        "val PaxReliable = PaxDF.where(!inBlacklistUDF($\"SEQN\"))\n",
        "\n",
        "println(\"Number of reliable devices: \" + PaxReliable.select($\"SEQN\").distinct.count)\n",
        "println(\"Number of unreliable devices \" + PaxUnreliable.select($\"SEQN\").distinct.count)"
      ],
      "outputs" : [ ]
    },
    {
      "metadata" : {
        "id" : "94A15D0589BE46F29EFA1D6207F8A061"
      },
      "cell_type" : "markdown",
      "source" : "Now that we have respondent sequence numbers for somewhat reliable and unreliable data we can have a look at\nraw intensity values over the tracking period. We will make and add synthetic `datetime` column to be able order records more easily and make timeseries charts."
    },
    {
      "metadata" : {
        "trusted" : true,
        "input_collapsed" : false,
        "collapsed" : true,
        "presentation" : {
          "tabs_state" : "{\n  \"tab_id\": \"#tab1616669095-0\"\n}",
          "pivot_chart_state" : "{\n  \"hiddenAttributes\": [],\n  \"menuLimit\": 200,\n  \"cols\": [],\n  \"rows\": [],\n  \"vals\": [],\n  \"exclusions\": {},\n  \"inclusions\": {},\n  \"unusedAttrsVertical\": 85,\n  \"autoSortUnusedAttrs\": false,\n  \"inclusionsInfo\": {},\n  \"aggregatorName\": \"Count\",\n  \"rendererName\": \"Table\"\n}"
        },
        "id" : "D76601EA4E9B4C1B8A8943923B7D922D"
      },
      "cell_type" : "code",
      "source" : [
        "val reliableSeqNumSample = PaxReliable.select($\"SEQN\").distinct\n",
        "  .sample(false, 0.01, SEED)\n",
        "  .limit(10)\n",
        "  .collect\n",
        "  .map(_(0).asInstanceOf[Int]).toList\n",
        "\n",
        "val PaxReliableWithDT = PaxReliable\n",
        "                        .withColumn(\"datetime\", concat($\"PAXDAYSAS\", lit(\".01.2005 \"), $\"PAXHOUR\", lit(\":\"), $\"PAXMINUT\"))\n",
        "                        .withColumn(\"time\", unix_timestamp($\"datetime\", \"d.MM.yyyy HH:mm\"))\n",
        "                        .withColumn(\"datetime\", from_unixtime($\"time\"))"
      ],
      "outputs" : [ ]
    },
    {
      "metadata" : {
        "trusted" : true,
        "input_collapsed" : false,
        "collapsed" : true,
        "id" : "E376E798F91E47929F63C9C682B73A13"
      },
      "cell_type" : "code",
      "source" : [
        "CustomPlotlyChart(PaxReliableWithDT\n",
        "                    .where($\"SEQN\" === reliableSeqNumSample(3))\n",
        "                    .where($\"PAXDAYSAS\" > 1 && $\"PAXDAYSAS\" < 4), // showing only two days\n",
        "                  layout=\"\"\"{title: 'Physical activity monitor data', \n",
        "                           yaxis: {title: 'Device Intensity Value'},\n",
        "                           showlegend: false}\"\"\",\n",
        "                  dataOptions=\"\"\"{\n",
        "                    colorscale: 'Electric',\n",
        "                    autocolorscale: true\n",
        "                  }\"\"\",\n",
        "                  dataSources=\"\"\"{\n",
        "                    x: 'datetime',\n",
        "                    y: 'PAXINTEN'\n",
        "                  }\"\"\",\n",
        "                 maxPoints=3000)"
      ],
      "outputs" : [ ]
    },
    {
      "metadata" : {
        "id" : "8D0C745E376F4D7C83D3C2EC40B24FC6"
      },
      "cell_type" : "markdown",
      "source" : "This is a locomotor activity data. What can we do with this data? What can it tell us about human health or age?\nIt's hard to directly compare different locomotor activity tracks because much of individual's social activity habbits are mixed into this data.\nBut we're interested to extract physiological information from noisy locomotor activity.\n  For that we need to perform feature engineering."
    },
    {
      "metadata" : {
        "id" : "CEDBB971DE6E4C2A870498A699723C55"
      },
      "cell_type" : "markdown",
      "source" : "## Transition Matrix"
    },
    {
      "metadata" : {
        "id" : "EFB1E758E1074C06867E920ABC49E6DD"
      },
      "cell_type" : "markdown",
      "source" : "One way to describe locomotor activity track is to apply the model of [Markov process](https://en.wikipedia.org/wiki/Markov_chain) to it\nwhich is described by probabilities of transitions from one state to another. We can define such probabilities in a form of [transition matrix](https://en.wikipedia.org/wiki/Stochastic_matrix).\n\nFirst, we need to define finite state space of such a locomotor activity process, let's say something like: low, medium, high, very high level of activity.\n\nAfter that we need to go through a physical activity intensity track of an individual person and count probabilities of transitions from one level of activity to another\nfor given person. As a result we'll get a locomotor activity transition matrix for a single person which can be treated as a locomotor findgerprint of a person."
    },
    {
      "metadata" : {
        "trusted" : true,
        "input_collapsed" : false,
        "collapsed" : true,
        "id" : "E6C13D23152043A4A642166CE57709F3"
      },
      "cell_type" : "markdown",
      "source" : "### Spark ML Bucketizer"
    },
    {
      "metadata" : {
        "id" : "7531F562FADD47E79F9EE57E9278ED61"
      },
      "cell_type" : "markdown",
      "source" : "To define finite state space of locomotor activities we can use [Bucketizer](https://spark.apache.org/docs/latest/ml-features.html#bucketizer) transformer from Spark ML library.\n\nWe can look at intencity value distribution recorded from reliable trackers to define desired intensity levels."
    },
    {
      "metadata" : {
        "trusted" : true,
        "input_collapsed" : false,
        "collapsed" : true,
        "id" : "DA6D53061AFC44B0B4E744AFA2790D47"
      },
      "cell_type" : "code",
      "source" : [
        "CustomPlotlyChart(PaxReliableWithDT.where($\"PAXINTEN\" < 18000).sample(withReplacement=false, 0.05),\n",
        "                  layout=\"\"\"{title: 'Intencity value distribution recorded from reliable trackers', \n",
        "                             yaxis: {type: 'log'},\n",
        "                             xaxis: {title: 'Intensity'},\n",
        "                             bargap: 0.02}\"\"\",\n",
        "                  dataOptions=\"{type: 'histogram', opacity: 0.7}\",\n",
        "                  dataSources=\"{x: 'PAXINTEN'}\",\n",
        "                  maxPoints=5000)"
      ],
      "outputs" : [ ]
    },
    {
      "metadata" : {
        "trusted" : true,
        "input_collapsed" : false,
        "collapsed" : true,
        "id" : "EE0EE98FE4C34A8DBA8DC1A050DA3957"
      },
      "cell_type" : "code",
      "source" : [
        "import org.apache.spark.ml.feature.Bucketizer\n",
        "\n",
        "val splits = Array(0, 30, 100, 300, 600, 900, 1400, 2000, 3500, 5000, Double.PositiveInfinity)\n",
        "\n",
        "val bucketizer = new Bucketizer()\n",
        "  .setInputCol(\"PAXINTEN\")\n",
        "  .setOutputCol(\"activityLevel\")\n",
        "  .setSplits(splits)"
      ],
      "outputs" : [ ]
    },
    {
      "metadata" : {
        "trusted" : true,
        "input_collapsed" : false,
        "collapsed" : true,
        "id" : "0F09413DAA7D4D6585361F115DF41D1B"
      },
      "cell_type" : "code",
      "source" : [
        "val bucketedPax = bucketizer\n",
        "  .transform(PaxReliableWithDT\n",
        "             .withColumn(\"totalInten\", $\"PAXINTEN\".cast(LongType))\n",
        "             .withColumn(\"PAXINTEN\", $\"PAXINTEN\".cast(DoubleType)))\n",
        "  .withColumn(\"activityLevel\", $\"activityLevel\".cast(IntegerType))\n",
        "\n",
        "bucketedPax.select($\"activityLevel\").distinct.orderBy($\"activityLevel\").show"
      ],
      "outputs" : [ ]
    },
    {
      "metadata" : {
        "id" : "62E5FBE0405348EB81F11F0593758D83"
      },
      "cell_type" : "markdown",
      "source" : "### Computing Transition Matrix with Spark SQL Window Functions"
    },
    {
      "metadata" : {
        "id" : "3CF1FC441F714576BD9725B382FF6B99"
      },
      "cell_type" : "markdown",
      "source" : "To compute a transition matrix we need to collect previous minute activity of a given person for each minute of activity for the same person.\n\nThat's where Spark SQL Funcitons come in handy."
    },
    {
      "metadata" : {
        "trusted" : true,
        "input_collapsed" : false,
        "collapsed" : true,
        "id" : "87406AC2BD664C928C6B5A41F8AADF00"
      },
      "cell_type" : "code",
      "source" : [
        "import org.apache.spark.sql.expressions.Window\n",
        "\n",
        "val windowSpec = Window.partitionBy(\"SEQN\").orderBy(\"time\")\n",
        "\n",
        "val withLastMinuteDF = bucketedPax\n",
        "  .select($\"SEQN\", $\"totalInten\", $\"activityLevel\", $\"time\")\n",
        "  .withColumn(\"previousMinuteActivity\", lag(\"activityLevel\", 1).over(windowSpec))\n",
        "  .withColumn(\"previousMinuteActivity\", when(isnull($\"previousMinuteActivity\"), -1).otherwise($\"previousMinuteActivity\"))"
      ],
      "outputs" : [ ]
    },
    {
      "metadata" : {
        "id" : "11644D09CFC0429D809075F6DD9A99C4"
      },
      "cell_type" : "markdown",
      "source" : "Here we specified a window to contain all records from one Respondent ( partitioned by `SEQN`) and ordered by `time`. \n\nAnd we're using `lag` window funciton to access previous record in specified window which in this case is a previous minute activity level of a given person.\n\nNow that we have previous minute activity level we can start to build a transition matrix of desired size.\nWe can store the transition matrix `W` in a form of `Array[Array[Double]]` where `W(i)(j)` has the value of probability of transition from state `j` to state `i`.\n \nFirst we will store in `W(i)(j)` a number of transitions from level `j` to level `i` of a given person and after that we will devide this value by total number of transitions in recorded track for the person.\n\nLet's obtain total number of transitions from one sate to another."
    },
    {
      "metadata" : {
        "trusted" : true,
        "input_collapsed" : false,
        "collapsed" : true,
        "id" : "D9FFE775469440AF8B117F705E113187"
      },
      "cell_type" : "code",
      "source" : [
        "def initTransitionMatrix = udf{ (currentActivityLevel: Int, previousActivityLevel: Int, size: Int) => {\n",
        "  val W = Array.fill(size, size)(0.0)\n",
        "  if (previousActivityLevel >= 0)\n",
        "    W.updated(currentActivityLevel, W(currentActivityLevel).updated(previousActivityLevel, 1.0))\n",
        "  else\n",
        "    W\n",
        "}}\n",
        "\n",
        "val dfW = withLastMinuteDF.withColumn(\"W\", initTransitionMatrix($\"activityLevel\", $\"previousMinuteActivity\", lit(10)))"
      ],
      "outputs" : [ ]
    },
    {
      "metadata" : {
        "trusted" : true,
        "input_collapsed" : false,
        "collapsed" : false,
        "id" : "CC79FBCDEB304B4089A50D5C639F61C5"
      },
      "cell_type" : "markdown",
      "source" : "For each record we created a  matrix with single transition count: from previous minute acitivty level to current one."
    },
    {
      "metadata" : {
        "trusted" : true,
        "input_collapsed" : false,
        "collapsed" : true,
        "id" : "241F10C940B74A3381118A3313BA974C"
      },
      "cell_type" : "code",
      "source" : [
        "case class RespondentTrMatrix(seqn: Int, totalInten: Long, totalCount: Long, W: Array[Array[Double]])"
      ],
      "outputs" : [ ]
    },
    {
      "metadata" : {
        "trusted" : true,
        "input_collapsed" : false,
        "collapsed" : true,
        "id" : "1DDB3F4496534A708A8ED05591E78F80"
      },
      "cell_type" : "code",
      "source" : [
        "val initTrMatrixDS = dfW.select($\"SEQN\", $\"totalInten\", lit(1L).as(\"totalCount\"), $\"W\").as[RespondentTrMatrix]"
      ],
      "outputs" : [ ]
    },
    {
      "metadata" : {
        "trusted" : true,
        "input_collapsed" : false,
        "collapsed" : true,
        "id" : "6DA4C5CD6059438F82520C503371CC2B"
      },
      "cell_type" : "code",
      "source" : [
        "initTrMatrixDS.write.format(\"parquet\").mode(\"overwrite\")\n",
        ".save(\"./notebooks/spark-notebooks-gallery/gallery/physical-activity-monitor/data/10_inten_tr_matrix_init.parquet\")"
      ],
      "outputs" : [ ]
    },
    {
      "metadata" : {
        "trusted" : true,
        "input_collapsed" : false,
        "collapsed" : true,
        "id" : "3380772718CA4FD59F1005B6B76F63BF"
      },
      "cell_type" : "code",
      "source" : [
        "val initTrMatrixDS = spark.read\n",
        "  .format(\"parquet\")\n",
        "  .load(\"./notebooks/spark-notebooks-gallery/gallery/physical-activity-monitor/data/10_inten_tr_matrix_init.parquet\")\n",
        "  .as[RespondentTrMatrix]\n"
      ],
      "outputs" : [ ]
    },
    {
      "metadata" : {
        "id" : "F30AFC98A4704AF7861D08A5D8963EA5"
      },
      "cell_type" : "markdown",
      "source" : "Finally we need to sum all single-transition matrices of a single respondent\nand divide the result matrix by total number of transition of the respondent."
    },
    {
      "metadata" : {
        "trusted" : true,
        "input_collapsed" : false,
        "collapsed" : true,
        "id" : "09C39839D8364E9F83CF457767FC0231"
      },
      "cell_type" : "code",
      "source" : [
        "\n",
        "val sumTrMatrixDS = initTrMatrixDS.rdd\n",
        "  .map(l => (l.seqn, l))\n",
        "  .reduceByKey((l, r) => {\n",
        "    val elementWiseArraySum = (a: Array[Double], b: Array[Double]) => {\n",
        "      a.zip(b).map { case (x, y) => x + y }\n",
        "    }\n",
        "    val elementWiseMatrixSum = (c: Array[Array[Double]], d: Array[Array[Double]]) => {\n",
        "      c.zip(d).map { case (x, y) => elementWiseArraySum(x, y) }\n",
        "    }\n",
        "    RespondentTrMatrix(l.seqn, l.totalInten + r.totalInten, l.totalCount + r.totalCount, elementWiseMatrixSum(l.W, r.W)) \n",
        "  })\n",
        "  .map(r => {\n",
        "    val trMatrix = r._2\n",
        "    trMatrix.copy(W = trMatrix.W.map(_.map(_ / trMatrix.totalCount)))\n",
        "  })\n",
        "  .toDS"
      ],
      "outputs" : [ ]
    },
    {
      "metadata" : {
        "trusted" : true,
        "input_collapsed" : false,
        "collapsed" : true,
        "id" : "99987B2279F94D15848EAE0BC8A335C5"
      },
      "cell_type" : "code",
      "source" : [
        "sumTrMatrixDS.write.format(\"parquet\").mode(\"overwrite\")\n",
        ".save(\"./notebooks/spark-notebooks-gallery/gallery/physical-activity-monitor/data/10_inten_tr_matrix.parquet\")"
      ],
      "outputs" : [ ]
    },
    {
      "metadata" : {
        "id" : "2F0B72127E094C418C0BC23502A5EE61"
      },
      "cell_type" : "markdown",
      "source" : "It's a good idea to persist computed transition matrices."
    },
    {
      "metadata" : {
        "trusted" : true,
        "input_collapsed" : false,
        "collapsed" : true,
        "id" : "D4853DC746D443FC9BBCD23D81D710D0"
      },
      "cell_type" : "code",
      "source" : [
        "val computedTrMatrixDS = spark.read\n",
        "  .format(\"parquet\")\n",
        "  .load(\"./notebooks/spark-notebooks-gallery/gallery/physical-activity-monitor/data/10_inten_tr_matrix.parquet\")\n",
        "  .as[RespondentTrMatrix]\n"
      ],
      "outputs" : [ ]
    },
    {
      "metadata" : {
        "id" : "85DE5CE136F2413EAFEBA5FD204F3C81"
      },
      "cell_type" : "markdown",
      "source" : "We also obtained respondent cumulative intensity value. Let's take a look at its distribution."
    },
    {
      "metadata" : {
        "trusted" : true,
        "input_collapsed" : false,
        "collapsed" : true,
        "id" : "B5A88EA03B2A48C89B94CB32B7EF086C"
      },
      "cell_type" : "code",
      "source" : [
        "CustomPlotlyChart(computedTrMatrixDS.where($\"totalInten\" < 10e6).toDF,\n",
        "                  layout=\"\"\"{title: 'Cumulative intensity value distribution', \n",
        "                             xaxis: {title: 'Cumulative intensity value per week'},\n",
        "                             bargap: 0.02}\"\"\",\n",
        "                  dataOptions=\"{type: 'histogram', opacity: 0.7}\",\n",
        "                  dataSources=\"{x: 'totalInten'}\",\n",
        "                  maxPoints=8000)"
      ],
      "outputs" : [ ]
    },
    {
      "metadata" : {
        "id" : "E2C64165CFB642A5BAAA1C4BFA02C82B"
      },
      "cell_type" : "markdown",
      "source" : "There is a peak in distribution at very low cumulative intensity value. \nLow cumulative intensity value might be obtained when the physical activity monitor has not been used. \nWe can filter out these measurements."
    },
    {
      "metadata" : {
        "trusted" : true,
        "input_collapsed" : false,
        "collapsed" : true,
        "id" : "FE7F8EF9B324468C960D0C06C30E6746"
      },
      "cell_type" : "code",
      "source" : [
        "val trMatrixCleanedDS = computedTrMatrixDS\n",
        "                        .where($\"totalInten\" < 1e7 && $\"totalInten\" > 1e5)\n",
        "\n",
        "trMatrixCleanedDS.count"
      ],
      "outputs" : [ ]
    },
    {
      "metadata" : {
        "trusted" : true,
        "input_collapsed" : false,
        "collapsed" : true,
        "presentation" : {
          "tabs_state" : "{\n  \"tab_id\": \"#tab1013510305-0\"\n}",
          "pivot_chart_state" : "{\n  \"hiddenAttributes\": [],\n  \"menuLimit\": 200,\n  \"cols\": [],\n  \"rows\": [],\n  \"vals\": [],\n  \"exclusions\": {},\n  \"inclusions\": {},\n  \"unusedAttrsVertical\": 85,\n  \"autoSortUnusedAttrs\": false,\n  \"inclusionsInfo\": {},\n  \"aggregatorName\": \"Count\",\n  \"rendererName\": \"Table\"\n}"
        },
        "id" : "345727CAAE6449E7832B1EF127FDD6A2"
      },
      "cell_type" : "code",
      "source" : [
        "val sampleTrMatrices = trMatrixCleanedDS\n",
        "                      .sample(false, 0.1, SEED).limit(10)\n",
        "                      .collect\n",
        "                      .map(_.W)"
      ],
      "outputs" : [ ]
    },
    {
      "metadata" : {
        "id" : "560E1E4AA5494FF2828EA47EB29A7FAD"
      },
      "cell_type" : "markdown",
      "source" : "Now we can vizualise transition matrices for different respondent."
    },
    {
      "metadata" : {
        "trusted" : true,
        "input_collapsed" : false,
        "collapsed" : true,
        "id" : "B77A0CCA35864D01B79BF33438FBF9CE"
      },
      "cell_type" : "code",
      "source" : [
        "def plotTrMatrix(trMatrix: Array[Array[Double]]) = {\n",
        "  val trMatrixPlotData = trMatrix\n",
        "                          .zipWithIndex.toSeq.toDF(\"transitions\", \"toActivityLevel\")\n",
        "                          .withColumn(\"fromActivityLevel\", $\"toActivityLevel\")\n",
        "  \n",
        "  CustomPlotlyChart(trMatrixPlotData,\n",
        "                  layout=\"\"\"{title: 'Physical activity Transition matrix',\n",
        "                             xaxis: {title: 'from physical activity level'}, \n",
        "                             yaxis: {title: 'to physical activity level'},\n",
        "                             width: 600, height: 600}\"\"\",\n",
        "                  dataOptions=\"\"\"{type: 'heatmap', \n",
        "                                  colorscale: 'Viridis',\n",
        "                                  reversescale: false,\n",
        "                                  colorbar: {\n",
        "                                    title: 'Probability',\n",
        "                                    tickmode: 'array',\n",
        "                                    tickvals: [0, 0.02, 0.04, 0.06, 0.08, 0.1],\n",
        "                                    ticktext: ['0', '0.02', '0.04', '0.06', '0.08', '>0.1']\n",
        "                                  },\n",
        "                                  zmin: 0.0, zmax: 0.10}\"\"\",\n",
        "                  dataSources=\"{x: 'fromActivityLevel', y: 'toActivityLevel', z: 'transitions'}\")\n",
        "}"
      ],
      "outputs" : [ ]
    },
    {
      "metadata" : {
        "trusted" : true,
        "input_collapsed" : false,
        "collapsed" : true,
        "id" : "4F95332791AC44AE913DF06DF015147F"
      },
      "cell_type" : "code",
      "source" : [
        "plotTrMatrix(sampleTrMatrices(0))"
      ],
      "outputs" : [ ]
    },
    {
      "metadata" : {
        "trusted" : true,
        "input_collapsed" : false,
        "collapsed" : true,
        "id" : "24E7DCF21C244F5E846D94DDE7C29B52"
      },
      "cell_type" : "code",
      "source" : [
        "plotTrMatrix(sampleTrMatrices(4))"
      ],
      "outputs" : [ ]
    },
    {
      "metadata" : {
        "trusted" : true,
        "input_collapsed" : false,
        "collapsed" : true,
        "id" : "9F7C9779A9CF4E798DD0C6FF41622844"
      },
      "cell_type" : "code",
      "source" : [
        "plotTrMatrix(sampleTrMatrices(5))"
      ],
      "outputs" : [ ]
    },
    {
      "metadata" : {
        "id" : "6690A2B8DE314E138AB651D875FFD1A9"
      },
      "cell_type" : "markdown",
      "source" : "A transitoin matrix looks like a locomotor fingerprint and we already can say something about a person's activity patterns\nfrom looking into her locomotor transition matrix."
    },
    {
      "metadata" : {
        "trusted" : true,
        "input_collapsed" : false,
        "collapsed" : false,
        "id" : "0E7C2B8B1CA54BB6861A10C648895E66"
      },
      "cell_type" : "markdown",
      "source" : "## Aging"
    },
    {
      "metadata" : {
        "id" : "037E686381D842F7892D7DDBC60C01A3"
      },
      "cell_type" : "markdown",
      "source" : "We collected and cleaned a lot of data recorded by physical activity monitors and extracted quite interesting feature from raw data.\n\nInteresting to see how does physiological changes encoded in transition matrix relates to the aging process.\n\nFor that we'll use Principal component analysis ([PCA](https://spark.apache.org/docs/latest/ml-features.html#pca)).\nWe'll project high dimentional feature space which is in our case is 10x10=100 (the number of elements in the matrix) of possibly correlated variables into lower dimentional space of linearly uncorrelated variables called principal components."
    },
    {
      "metadata" : {
        "trusted" : true,
        "input_collapsed" : false,
        "collapsed" : true,
        "id" : "02BAC4BA63A748DA8A50F86E1FC2CCD2"
      },
      "cell_type" : "code",
      "source" : [
        "import org.apache.spark.ml.linalg.{Vector, Vectors}\n",
        "import org.apache.spark.ml.feature.PCA"
      ],
      "outputs" : [ ]
    },
    {
      "metadata" : {
        "id" : "0199E16A18554A9B9813DECAF0A5F512"
      },
      "cell_type" : "markdown",
      "source" : "We use [PCA](https://spark.apache.org/docs/latest/ml-features.html#pca) feature transformaer from Spark ML library. "
    },
    {
      "metadata" : {
        "trusted" : true,
        "input_collapsed" : false,
        "collapsed" : true,
        "id" : "68C8CB4D5431400FB34A07D03B0C70BB"
      },
      "cell_type" : "code",
      "source" : [
        "def logScaleFeaturesUDF = udf{ (vec: Vector) => Vectors.dense(vec.toArray.map(v => -scala.math.log(1e-7 + v)))}"
      ],
      "outputs" : [ ]
    },
    {
      "metadata" : {
        "trusted" : true,
        "input_collapsed" : false,
        "collapsed" : true,
        "id" : "6CBFBD73BC754D6AAB0D573FD156A9AD"
      },
      "cell_type" : "code",
      "source" : [
        "val flattenTrMatrixDF = computedTrMatrixDS.where($\"totalInten\" < 1e7 && $\"totalInten\" > 1e5).rdd\n",
        "  .map(l => (l.seqn, Vectors.dense(l.W.flatten)))\n",
        "  .toDF(\"SEQN\", \"features\")\n",
        "  .withColumn(\"logFeatures\", logScaleFeaturesUDF($\"features\"))\n",
        "  .join(DemoDF, \"SEQN\")\n",
        "  .where($\"RIDAGEYR\" >= 35)"
      ],
      "outputs" : [ ]
    },
    {
      "metadata" : {
        "id" : "6758FE50E92D418D97381278E52D5FFE"
      },
      "cell_type" : "markdown",
      "source" : "Here we flatten the matrix into single feature `Vector` and apply log transformation to the feature vector. \nAlso we join age data from demographics dataset. \nAnd let's consider only respondents older than 35 years (since we're interested in the aging process)."
    },
    {
      "metadata" : {
        "trusted" : true,
        "input_collapsed" : false,
        "collapsed" : true,
        "id" : "EB8B87078FCB42AE97C411C650AA06BD"
      },
      "cell_type" : "code",
      "source" : [
        "val pca = new PCA()\n",
        "  .setInputCol(\"logFeatures\")\n",
        "  .setOutputCol(\"pcaFeatures\")\n",
        "  .setK(3)\n",
        "  .fit(flattenTrMatrixDF)\n",
        "\n",
        "val withLocomotorPCA = pca.transform(flattenTrMatrixDF).select(\"SEQN\", \"pcaFeatures\", \"RIDAGEYR\")\n",
        "\n",
        "withLocomotorPCA.limit(3).show(false)"
      ],
      "outputs" : [ ]
    },
    {
      "metadata" : {
        "id" : "C4F76AC173E8457A8ACF4A4574A4C6DD"
      },
      "cell_type" : "markdown",
      "source" : "Let's extract each principal component as an individual feature \nand compute mean value and standart deviation of each principal component for given age."
    },
    {
      "metadata" : {
        "trusted" : true,
        "input_collapsed" : false,
        "collapsed" : true,
        "id" : "DAD4DF08D4F448288873DA79E0BD03E5"
      },
      "cell_type" : "code",
      "source" : [
        "def getItemUDF = udf{ (vec: Vector, idx: Int) => vec(idx)}\n",
        "\n",
        "val locomotorPCvsAge = withLocomotorPCA\n",
        "  .select($\"SEQN\", $\"RIDAGEYR\".as(\"age\"),\n",
        "          getItemUDF($\"pcaFeatures\", lit(0)).as(\"PC1\"),\n",
        "          getItemUDF($\"pcaFeatures\", lit(1)).as(\"PC2\"),\n",
        "          getItemUDF($\"pcaFeatures\", lit(2)).as(\"PC3\"))\n",
        "\n",
        "val matrixPCvsAge = locomotorPCvsAge.groupBy($\"age\").agg(\n",
        "  mean($\"PC1\").as(\"meanPC1\"), stddev($\"PC1\").as(\"stdPC1\"),\n",
        "  mean($\"PC2\").as(\"meanPC2\"), stddev($\"PC`2\").as(\"stdPC2\"),\n",
        "  mean($\"PC3\").as(\"meanPC3\"), stddev($\"PC3\").as(\"stdPC3\")\n",
        ")\n",
        "\n",
        "def plotPrincipalComponentVsAge(componentNum: Int) = {\n",
        "  CustomPlotlyChart(matrixPCvsAge.orderBy($\"age\"),\n",
        "                  layout=s\"\"\"{title: 'PC$componentNum vs Age', \n",
        "                           xaxis: {title: 'Chronological age'},\n",
        "                           yaxis: {title: 'PC$componentNum'},\n",
        "                           showlegend: false}\"\"\",\n",
        "                  dataOptions=\"\"\"{\n",
        "                    type: 'scatter',\n",
        "                    line: {width: 2},\n",
        "                    error_y: {type: 'data', visible: true, thickness: 0.5, width: 0}\n",
        "                  }\"\"\",\n",
        "                  dataSources=s\"\"\"{\n",
        "                    x: 'age',\n",
        "                    y: 'meanPC$componentNum',\n",
        "                    error_y: {array: 'stdPC$componentNum'}\n",
        "                  }\"\"\")\n",
        "}"
      ],
      "outputs" : [ ]
    },
    {
      "metadata" : {
        "trusted" : true,
        "input_collapsed" : false,
        "collapsed" : true,
        "id" : "488C2ECAF24C4A7394A2853B298434BB"
      },
      "cell_type" : "code",
      "source" : [
        "plotPrincipalComponentVsAge(1)"
      ],
      "outputs" : [ ]
    },
    {
      "metadata" : {
        "trusted" : true,
        "input_collapsed" : false,
        "collapsed" : true,
        "id" : "3FD55AB42A964D4B9E3E854A53151942"
      },
      "cell_type" : "code",
      "source" : [
        "plotPrincipalComponentVsAge(2)"
      ],
      "outputs" : [ ]
    },
    {
      "metadata" : {
        "trusted" : true,
        "input_collapsed" : false,
        "collapsed" : true,
        "id" : "4A8236AAE4B9452482114431680D0DC3"
      },
      "cell_type" : "code",
      "source" : [
        "plotPrincipalComponentVsAge(3)"
      ],
      "outputs" : [ ]
    },
    {
      "metadata" : {
        "trusted" : true,
        "input_collapsed" : false,
        "collapsed" : true,
        "id" : "381262E20C614E678C6544CAB9CB513B"
      },
      "cell_type" : "code",
      "source" : [
        "CustomPlotlyChart(\n",
        "  locomotorPCvsAge, \n",
        "  layout=\"\"\"{\n",
        "        title: 'PCA of the Locomotor Transition Matrix',\n",
        "        height: 900,\n",
        "        xaxis: {title: 'PC1'},\n",
        "        yaxis: {title: 'PC2'},\n",
        "        hovermode: 'closest'\n",
        "    }\"\"\",\n",
        "  dataOptions=\"\"\"{\n",
        "    mode: 'markers',\n",
        "    type: 'scatter',\n",
        "    marker: {\n",
        "        sizemode: 'area',\n",
        "        size: 12,\n",
        "        opacity: 0.75,\n",
        "        colorscale: 'Jet',\n",
        "        reversescale: true,\n",
        "        colorbar: {\n",
        "          title: 'Age',\n",
        "          thickness: 8.0\n",
        "        }\n",
        "    }}\"\"\",\n",
        "  dataSources=\"\"\"{\n",
        "    x: 'PC1',\n",
        "    y: 'PC2',\n",
        "    marker: {color: 'age'}}\"\"\",\n",
        "  maxPoints=6000)"
      ],
      "outputs" : [ ]
    },
    {
      "metadata" : {
        "trusted" : true,
        "input_collapsed" : false,
        "collapsed" : true,
        "id" : "E4B789FCABF8425E9EE3698A3BAD2C26"
      },
      "cell_type" : "markdown",
      "source" : "PCA analysis finds the largest variance associated with age.\nThat means that `PC1` of locomotor transition matrix contains information about biological age.\n\nWe've obtained pretty strong feature and there are plenty of things we can do with this. For example, we can use it for mortality risks prediction based on locomotor activity.\n\nLet's try to conduct this analysis in the next part of this lab."
    }
  ],
  "nbformat" : 4
}