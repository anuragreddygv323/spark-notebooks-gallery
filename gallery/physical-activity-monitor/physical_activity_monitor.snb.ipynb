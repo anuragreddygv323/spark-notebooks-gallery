{
  "metadata" : {
    "id" : "2f3cddb4-fe9d-4dab-b741-b4db8ec88563",
    "name" : "physical_activity_monitor",
    "user_save_timestamp" : "1970-01-01T03:00:00.000Z",
    "auto_save_timestamp" : "1970-01-01T03:00:00.000Z",
    "language_info" : {
      "name" : "scala",
      "file_extension" : "scala",
      "codemirror_mode" : "text/x-scala"
    },
    "trusted" : true,
    "sparkNotebook" : null,
    "customLocalRepo" : null,
    "customRepos" : null,
    "customDeps" : null,
    "customImports" : null,
    "customArgs" : null,
    "customSparkConf" : null,
    "customVars" : null
  },
  "cells" : [
    {
      "metadata" : {
        "id" : "6E92FA8FD17044058C6034073169C096"
      },
      "cell_type" : "markdown",
      "source" : "#Analyzing physical activity monitor data"
    },
    {
      "metadata" : {
        "id" : "792C5CCB3EDC4B79B5A98DCF5D00865D"
      },
      "cell_type" : "markdown",
      "source" : "TODO intro"
    },
    {
      "metadata" : {
        "id" : "55A81F20E41D490CB27208CAC2AC489A"
      },
      "cell_type" : "markdown",
      "source" : "## Data"
    },
    {
      "metadata" : {
        "trusted" : true,
        "input_collapsed" : false,
        "collapsed" : true,
        "id" : "BE8AE8B50CCC46898F62D1D33ED10447"
      },
      "cell_type" : "markdown",
      "source" : "TODO\n\nTo convert from sas transport file format with extension`.xpt` to CSV we can use `xport` module from python PyPI packages:\n```bash\npip install xport\n```\nand use the `xport` module as a command-line tool to convert an XPT file to CSV file:\n\n```bash\npython -m xport paxraw_d.xpt > paxraw_d.csv\n```"
    },
    {
      "metadata" : {
        "id" : "B48D72D28399419F8B2B3138BFBA92AC"
      },
      "cell_type" : "markdown",
      "source" : "## Reading the data"
    },
    {
      "metadata" : {
        "trusted" : true,
        "input_collapsed" : false,
        "collapsed" : false,
        "id" : "51D0403F6BDC4A3BABDE8FE05A0BC5C2"
      },
      "cell_type" : "code",
      "source" : [
        "val spark = sparkSession"
      ],
      "outputs" : [
        {
          "name" : "stdout",
          "output_type" : "stream",
          "text" : "spark: org.apache.spark.sql.SparkSession = org.apache.spark.sql.SparkSession@6520cbdf\n"
        },
        {
          "metadata" : { },
          "data" : {
            "text/html" : ""
          },
          "output_type" : "execute_result",
          "execution_count" : 1,
          "time" : "Took: 1.465s, at 2017-08-10 00:26"
        }
      ]
    },
    {
      "metadata" : {
        "trusted" : true,
        "input_collapsed" : false,
        "collapsed" : false,
        "id" : "575432ABE88E497EA2487F421DA7CAD4"
      },
      "cell_type" : "code",
      "source" : [
        "import org.apache.spark.sql.types._\n",
        "import org.apache.spark.sql.functions._"
      ],
      "outputs" : [
        {
          "name" : "stdout",
          "output_type" : "stream",
          "text" : "import org.apache.spark.sql.types._\nimport org.apache.spark.sql.functions._\n"
        },
        {
          "metadata" : { },
          "data" : {
            "text/html" : ""
          },
          "output_type" : "execute_result",
          "execution_count" : 2,
          "time" : "Took: 1.348s, at 2017-08-10 00:26"
        }
      ]
    },
    {
      "metadata" : {
        "trusted" : true,
        "input_collapsed" : false,
        "collapsed" : false,
        "id" : "338AF729A23D4DBEB9FC4CBF304DF400"
      },
      "cell_type" : "code",
      "source" : [
        "val PaxSchema = StructType(\n",
        "    StructField(\"SEQN\", FloatType, false) ::\n",
        "    StructField(\"PAXSTAT\", FloatType, false) ::\n",
        "    StructField(\"PAXCAL\", FloatType, false) ::\n",
        "    StructField(\"PAXDAYSAS\", FloatType, false) ::\n",
        "    StructField(\"PAXN\", FloatType, false) ::\n",
        "    StructField(\"PAXHOUR\", FloatType, false) ::\n",
        "    StructField(\"PAXMINUT\", FloatType, false) ::\n",
        "    StructField(\"PAXINTEN\", FloatType, false) ::\n",
        "    StructField(\"PAXSTEP\", StringType, true) :: Nil\n",
        ")"
      ],
      "outputs" : [
        {
          "name" : "stdout",
          "output_type" : "stream",
          "text" : "PaxSchema: org.apache.spark.sql.types.StructType = StructType(StructField(SEQN,FloatType,false), StructField(PAXSTAT,FloatType,false), StructField(PAXCAL,FloatType,false), StructField(PAXDAYSAS,FloatType,false), StructField(PAXN,FloatType,false), StructField(PAXHOUR,FloatType,false), StructField(PAXMINUT,FloatType,false), StructField(PAXINTEN,FloatType,false), StructField(PAXSTEP,StringType,true))\n"
        },
        {
          "metadata" : { },
          "data" : {
            "text/html" : ""
          },
          "output_type" : "execute_result",
          "execution_count" : 6,
          "time" : "Took: 1.200s, at 2017-08-10 00:40"
        }
      ]
    },
    {
      "metadata" : {
        "id" : "80918F2E3D3A4CCBB60A8031FFA959FD"
      },
      "cell_type" : "markdown",
      "source" : "TODO note on `nan` values in `PAXSTEP` column"
    },
    {
      "metadata" : {
        "trusted" : true,
        "input_collapsed" : false,
        "collapsed" : false,
        "id" : "66D3FA944223416197591192B41B15C3"
      },
      "cell_type" : "code",
      "source" : [
        "val PaxDF = spark.read\n",
        "  .format(\"csv\")\n",
        "  .schema(PaxSchema)\n",
        "  .option(\"header\", true)\n",
        "  .load(\"./notebooks/spark-notebooks-gallery/gallery/physical-activity-monitor/data/paxraw_d.csv\")\n",
        "  .withColumn(\"PAXSTEP\", when($\"PAXSTEP\" === \"nan\", null).otherwise($\"PAXSTEP\".cast(DoubleType)))\n",
        "  .select($\"SEQN\".cast(IntegerType),\n",
        "          $\"PAXSTAT\".cast(IntegerType),\n",
        "          $\"PAXCAL\".cast(IntegerType),\n",
        "          $\"PAXDAYSAS\".cast(IntegerType),\n",
        "          $\"PAXN\".cast(IntegerType),\n",
        "          $\"PAXHOUR\".cast(IntegerType),\n",
        "          $\"PAXMINUT\".cast(IntegerType),\n",
        "          $\"PAXINTEN\".cast(IntegerType),\n",
        "          $\"PAXSTEP\".cast(IntegerType))\n",
        "  .filter(!isnull($\"PAXSTEP\"))"
      ],
      "outputs" : [
        {
          "name" : "stdout",
          "output_type" : "stream",
          "text" : "PaxDF: org.apache.spark.sql.Dataset[org.apache.spark.sql.Row] = [SEQN: int, PAXSTAT: int ... 7 more fields]\n"
        },
        {
          "metadata" : { },
          "data" : {
            "text/html" : ""
          },
          "output_type" : "execute_result",
          "execution_count" : 11,
          "time" : "Took: 1.522s, at 2017-08-10 00:49"
        }
      ]
    },
    {
      "metadata" : {
        "trusted" : true,
        "input_collapsed" : false,
        "collapsed" : false,
        "id" : "04217A2C972C42AE80823D0EF560BDAE"
      },
      "cell_type" : "code",
      "source" : [
        "PaxDF.write.format(\"parquet\").save(\"./notebooks/spark-notebooks-gallery/gallery/physical-activity-monitor/data/paxraw_d.parquet\")"
      ],
      "outputs" : [
        {
          "metadata" : { },
          "data" : {
            "text/html" : ""
          },
          "output_type" : "execute_result",
          "execution_count" : 13,
          "time" : "Took: 2m36.534s, at 2017-08-10 00:52"
        }
      ]
    },
    {
      "metadata" : {
        "trusted" : true,
        "input_collapsed" : false,
        "collapsed" : false,
        "id" : "2A8406C412D74792ABB8A63C88607C48"
      },
      "cell_type" : "code",
      "source" : [
        "PaxDF.count"
      ],
      "outputs" : [
        {
          "name" : "stdout",
          "output_type" : "stream",
          "text" : "res18: Long = 74874033\n"
        },
        {
          "metadata" : { },
          "data" : {
            "text/html" : "74874033"
          },
          "output_type" : "execute_result",
          "execution_count" : 14,
          "time" : "Took: 51.797s, at 2017-08-10 00:57"
        }
      ]
    },
    {
      "metadata" : {
        "trusted" : true,
        "input_collapsed" : false,
        "collapsed" : false,
        "id" : "A9369BD854234E599AC2BFF2EB06BB62"
      },
      "cell_type" : "code",
      "source" : [
        "val PaxDF = spark.read\n",
        "  .format(\"parquet\")\n",
        "  //.schema(PaxSchema)\n",
        "  .load(\"./notebooks/spark-notebooks-gallery/gallery/physical-activity-monitor/data/paxraw_d.parquet\")"
      ],
      "outputs" : [
        {
          "name" : "stdout",
          "output_type" : "stream",
          "text" : "PaxDF: org.apache.spark.sql.DataFrame = [SEQN: int, PAXSTAT: int ... 7 more fields]\n"
        },
        {
          "metadata" : { },
          "data" : {
            "text/html" : ""
          },
          "output_type" : "execute_result",
          "execution_count" : 15,
          "time" : "Took: 1.177s, at 2017-08-10 00:59"
        }
      ]
    },
    {
      "metadata" : {
        "trusted" : true,
        "input_collapsed" : false,
        "collapsed" : false,
        "presentation" : {
          "tabs_state" : "{\n  \"tab_id\": \"#tab27896390-0\"\n}",
          "pivot_chart_state" : "{\n  \"hiddenAttributes\": [],\n  \"menuLimit\": 200,\n  \"cols\": [],\n  \"rows\": [],\n  \"vals\": [],\n  \"exclusions\": {},\n  \"inclusions\": {},\n  \"unusedAttrsVertical\": 85,\n  \"autoSortUnusedAttrs\": false,\n  \"inclusionsInfo\": {},\n  \"aggregatorName\": \"Count\",\n  \"rendererName\": \"Table\"\n}"
        },
        "id" : "260A5941B5D64AAD89A86A87BECAEC0A"
      },
      "cell_type" : "code",
      "source" : [
        "PaxDF.count"
      ],
      "outputs" : [
        {
          "name" : "stdout",
          "output_type" : "stream",
          "text" : "res25: Long = 74874033\n"
        },
        {
          "metadata" : { },
          "data" : {
            "text/html" : "74874033"
          },
          "output_type" : "execute_result",
          "execution_count" : 18,
          "time" : "Took: 1.764s, at 2017-08-10 01:02"
        }
      ]
    },
    {
      "metadata" : {
        "trusted" : true,
        "input_collapsed" : false,
        "collapsed" : true,
        "id" : "D76601EA4E9B4C1B8A8943923B7D922D"
      },
      "cell_type" : "code",
      "source" : [
        ""
      ],
      "outputs" : [ ]
    }
  ],
  "nbformat" : 4
}