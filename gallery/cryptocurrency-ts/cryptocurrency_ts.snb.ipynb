{
  "metadata" : {
    "id" : "7821c9b8-0aa5-4593-9420-223bba091d38",
    "name" : "cryptocurrency_ts",
    "user_save_timestamp" : "1970-01-01T03:00:00.000Z",
    "auto_save_timestamp" : "1970-01-01T03:00:00.000Z",
    "language_info" : {
      "name" : "scala",
      "file_extension" : "scala",
      "codemirror_mode" : "text/x-scala"
    },
    "trusted" : true,
    "sparkNotebook" : null,
    "customLocalRepo" : null,
    "customRepos" : null,
    "customDeps" : [ "com.twosigma % flint_2.11 % 0.2.0-SNAPSHOT" ],
    "customImports" : null,
    "customArgs" : null,
    "customSparkConf" : null,
    "customVars" : null
  },
  "cells" : [ {
    "metadata" : {
      "trusted" : true,
      "input_collapsed" : false,
      "collapsed" : false,
      "id" : "7B86726A63C442BE821572870875F9F0"
    },
    "cell_type" : "code",
    "source" : "import org.apache.spark.sql.types._\nimport org.apache.spark.sql.functions._",
    "outputs" : [ {
      "name" : "stdout",
      "output_type" : "stream",
      "text" : "import org.apache.spark.sql.types._\nimport org.apache.spark.sql.functions._\n"
    }, {
      "metadata" : { },
      "data" : {
        "text/html" : ""
      },
      "output_type" : "execute_result",
      "execution_count" : 31,
      "time" : "Took: 0.704s, at 2017-07-15 22:12"
    } ]
  }, {
    "metadata" : {
      "trusted" : true,
      "input_collapsed" : false,
      "collapsed" : false,
      "id" : "C56940B83424472E8351CF99DC00A87C"
    },
    "cell_type" : "code",
    "source" : "val spark = sparkSession",
    "outputs" : [ {
      "name" : "stdout",
      "output_type" : "stream",
      "text" : "spark: org.apache.spark.sql.SparkSession = org.apache.spark.sql.SparkSession@31432352\n"
    }, {
      "metadata" : { },
      "data" : {
        "text/html" : ""
      },
      "output_type" : "execute_result",
      "execution_count" : 7,
      "time" : "Took: 0.845s, at 2017-07-15 21:21"
    } ]
  }, {
    "metadata" : {
      "trusted" : true,
      "input_collapsed" : false,
      "collapsed" : false,
      "id" : "728B6EC9ABE84A2980BD3F02FD231405"
    },
    "cell_type" : "code",
    "source" : "val btcPriceSchema = StructType(\n    StructField(\"time\", StringType, false) ::\n    StructField(\"opening_price\", DoubleType, false) ::\n    StructField(\"highest_price\", DoubleType, false) ::\n    StructField(\"lowest_price\", DoubleType, false) ::\n    StructField(\"closing_price\", DoubleType, false) ::\n    StructField(\"volume_btc\", DoubleType, false) ::\n    StructField(\"volume_currency\", DoubleType, false) ::\n    StructField(\"currency_code\", StringType, false) :: Nil\n)",
    "outputs" : [ {
      "name" : "stdout",
      "output_type" : "stream",
      "text" : "btcPriceSchema: org.apache.spark.sql.types.StructType = StructType(StructField(time,StringType,false), StructField(opening_price,DoubleType,false), StructField(highest_price,DoubleType,false), StructField(lowest_price,DoubleType,false), StructField(closing_price,DoubleType,false), StructField(volume_btc,DoubleType,false), StructField(volume_currency,DoubleType,false), StructField(currency_code,StringType,false))\n"
    }, {
      "metadata" : { },
      "data" : {
        "text/html" : ""
      },
      "output_type" : "execute_result",
      "execution_count" : 35,
      "time" : "Took: 0.927s, at 2017-07-15 22:13"
    } ]
  }, {
    "metadata" : {
      "trusted" : true,
      "input_collapsed" : false,
      "collapsed" : false,
      "id" : "6AE15A64CF6D41FB8777CDBEA6483C79"
    },
    "cell_type" : "code",
    "source" : "val btcPricesDF = spark.read\n  .format(\"csv\")\n  .schema(btcPriceSchema)\n  .load(\"/home/dr0ff/hackspace/opensource/spark-notebooks-gallery/gallery/cryptocurrency-ts/crypto_data/btc_prices.csv\")\n  .withColumn(\"time\", unix_timestamp($\"time\", \"yyyy-MM-dd HH:mm:ssX\"))",
    "outputs" : [ {
      "name" : "stdout",
      "output_type" : "stream",
      "text" : "btcPricesDF: org.apache.spark.sql.DataFrame = [time: bigint, opening_price: double ... 6 more fields]\n"
    }, {
      "metadata" : { },
      "data" : {
        "text/html" : ""
      },
      "output_type" : "execute_result",
      "execution_count" : 53,
      "time" : "Took: 0.785s, at 2017-07-15 22:48"
    } ]
  }, {
    "metadata" : {
      "trusted" : true,
      "input_collapsed" : false,
      "collapsed" : false,
      "id" : "BD15BCA0C36A43EFBB6D5AA3B2F0D6E0"
    },
    "cell_type" : "code",
    "source" : "btcPricesDF.show(5)",
    "outputs" : [ {
      "name" : "stdout",
      "output_type" : "stream",
      "text" : "+----------+-------------+-------------+------------+-------------+----------+---------------+-------------+\n|      time|opening_price|highest_price|lowest_price|closing_price|volume_btc|volume_currency|currency_code|\n+----------+-------------+-------------+------------+-------------+----------+---------------+-------------+\n|1362960000|        60.56|        60.56|       60.56|        60.56|    0.1981|           12.0|          AUD|\n|1363046400|        60.56|        60.56|       41.38|        47.78|     47.11|         2297.5|          AUD|\n|1363132800|        49.01|        59.14|       46.49|        59.14|     49.64|        2501.39|          AUD|\n|1363219200|        50.15|        59.14|        49.7|        51.16|     31.37|        1592.73|          AUD|\n|1363305600|        51.16|        58.82|       50.93|        51.79|     16.79|         919.62|          AUD|\n+----------+-------------+-------------+------------+-------------+----------+---------------+-------------+\nonly showing top 5 rows\n\n"
    }, {
      "metadata" : { },
      "data" : {
        "text/html" : ""
      },
      "output_type" : "execute_result",
      "execution_count" : 58,
      "time" : "Took: 1.006s, at 2017-07-15 22:50"
    } ]
  }, {
    "metadata" : {
      "id" : "BCF7F7603A6B43F98EBC4DB63FB76461"
    },
    "cell_type" : "markdown",
    "source" : "### Convert to TimeSeriesRDD"
  }, {
    "metadata" : {
      "trusted" : true,
      "input_collapsed" : false,
      "collapsed" : false,
      "id" : "4A1B9DF1367E42758755ED783747B711"
    },
    "cell_type" : "code",
    "source" : "import com.twosigma.flint.timeseries.TimeSeriesRDD\nimport scala.concurrent.duration._",
    "outputs" : [ {
      "name" : "stdout",
      "output_type" : "stream",
      "text" : "import com.twosigma.flint.timeseries.TimeSeriesRDD\nimport scala.concurrent.duration._\n"
    }, {
      "metadata" : { },
      "data" : {
        "text/html" : ""
      },
      "output_type" : "execute_result",
      "execution_count" : 59,
      "time" : "Took: 0.615s, at 2017-07-15 22:50"
    } ]
  }, {
    "metadata" : {
      "trusted" : true,
      "input_collapsed" : false,
      "collapsed" : false,
      "id" : "23801219EBF3454D87E591F3BE45AA29"
    },
    "cell_type" : "code",
    "source" : "val btcPricesTsRdd = TimeSeriesRDD.fromDF(dataFrame = btcPricesDF)(isSorted = true, timeUnit = SECONDS)",
    "outputs" : [ {
      "name" : "stdout",
      "output_type" : "stream",
      "text" : "btcPricesTsRdd: com.twosigma.flint.timeseries.TimeSeriesRDD = com.twosigma.flint.timeseries.TimeSeriesRDDImpl@6b6efa9f\n"
    }, {
      "metadata" : { },
      "data" : {
        "text/html" : ""
      },
      "output_type" : "execute_result",
      "execution_count" : 60,
      "time" : "Took: 0.949s, at 2017-07-15 22:52"
    } ]
  }, {
    "metadata" : {
      "trusted" : true,
      "input_collapsed" : false,
      "collapsed" : false,
      "id" : "8E30C21AF2574C9AAB5AEDECC8B32690"
    },
    "cell_type" : "code",
    "source" : "btcPricesTsRdd.first",
    "outputs" : [ {
      "name" : "stdout",
      "output_type" : "stream",
      "text" : "res95: org.apache.spark.sql.Row = [1362960000000000000,60.56,60.56,60.56,60.56,0.1981,12.0,AUD]\n"
    }, {
      "metadata" : { },
      "data" : {
        "text/html" : "[1362960000000000000,60.56,60.56,60.56,60.56,0.1981,12.0,AUD]"
      },
      "output_type" : "execute_result",
      "execution_count" : 62,
      "time" : "Took: 2.804s, at 2017-07-15 22:52"
    } ]
  }, {
    "metadata" : {
      "trusted" : true,
      "input_collapsed" : false,
      "collapsed" : true,
      "id" : "26E423BE324F4C4B822D8EFCC368AE68"
    },
    "cell_type" : "code",
    "source" : "",
    "outputs" : [ ]
  }, {
    "metadata" : {
      "trusted" : true,
      "input_collapsed" : false,
      "collapsed" : true,
      "id" : "EA5EEB914E7C41E587A420ED3D58B190"
    },
    "cell_type" : "code",
    "source" : "",
    "outputs" : [ ]
  }, {
    "metadata" : {
      "trusted" : true,
      "input_collapsed" : false,
      "collapsed" : true,
      "id" : "EB2A98F2EB3743AE8D16D57F74832DA5"
    },
    "cell_type" : "code",
    "source" : "",
    "outputs" : [ ]
  }, {
    "metadata" : {
      "trusted" : true,
      "input_collapsed" : false,
      "collapsed" : true,
      "id" : "7A1CFD9D7A74451B91E28DD0F54C3663"
    },
    "cell_type" : "code",
    "source" : "",
    "outputs" : [ ]
  }, {
    "metadata" : {
      "trusted" : true,
      "input_collapsed" : false,
      "collapsed" : true,
      "id" : "4637365BCE564DE7BE2BBAC734E2E4A1"
    },
    "cell_type" : "code",
    "source" : "",
    "outputs" : [ ]
  }, {
    "metadata" : {
      "trusted" : true,
      "input_collapsed" : false,
      "collapsed" : true,
      "id" : "3812B4E07D49497686B6807040FC193E"
    },
    "cell_type" : "code",
    "source" : "",
    "outputs" : [ ]
  } ],
  "nbformat" : 4
}